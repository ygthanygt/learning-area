{
  "nbformat": 4,
  "nbformat_minor": 0,
  "metadata": {
    "colab": {
      "provenance": [],
      "mount_file_id": "1rXGXy92usGlYUsU1v6AVDpzvsqaC1lGl",
      "authorship_tag": "ABX9TyPLa96vUvtK4tzK+z+2AmZf",
      "include_colab_link": true
    },
    "kernelspec": {
      "name": "python3",
      "display_name": "Python 3"
    },
    "language_info": {
      "name": "python"
    }
  },
  "cells": [
    {
      "cell_type": "markdown",
      "metadata": {
        "id": "view-in-github",
        "colab_type": "text"
      },
      "source": [
        "<a href=\"https://colab.research.google.com/github/ygthanygt/learning-area/blob/main/python/PythonTutorial.ipynb\" target=\"_parent\"><img src=\"https://colab.research.google.com/assets/colab-badge.svg\" alt=\"Open In Colab\"/></a>"
      ]
    },
    {
      "cell_type": "markdown",
      "source": [
        "#Learn Python Basics"
      ],
      "metadata": {
        "id": "aq-G6wYFB9nN"
      }
    },
    {
      "cell_type": "code",
      "source": [
        "x = \"Hello World\" # string\n",
        "x = 50  # integer\n",
        "x = 60.5  # float\n",
        "x = 3j  # complex\n",
        "x = [\"geeks\", \"for\", \"geeks\"]  # list\n",
        "x = (\"geeks\", \"for\", \"geeks\")  # tuple\n",
        "x = {\"name\": \"Suraj\", \"age\": 24} # dict\n",
        "x = {\"geeks\", \"for\", \"geeks\"} # set\n",
        "x = True  # bool\n",
        "x = b\"Geeks\" # binary"
      ],
      "metadata": {
        "id": "JZ0cwsqE4mWP"
      },
      "execution_count": 7,
      "outputs": []
    },
    {
      "cell_type": "code",
      "source": [
        "val = input(\"Enter your value: \")\n",
        "print(val)"
      ],
      "metadata": {
        "colab": {
          "base_uri": "https://localhost:8080/"
        },
        "id": "nreVirlm4s6s",
        "outputId": "484905ac-d37d-4a91-c864-a9c03ba4e530"
      },
      "execution_count": 9,
      "outputs": [
        {
          "output_type": "stream",
          "name": "stdout",
          "text": [
            "Enter your value: 34\n",
            "34\n"
          ]
        }
      ]
    },
    {
      "cell_type": "code",
      "source": [
        "a = 9\n",
        "b = 4\n",
        "add = a + b\n",
        "\n",
        "sub = a - b\n",
        "\n",
        "mul = a * b\n",
        "\n",
        "mod = a % b\n",
        "\n",
        "p = a ** b\n",
        "print(add)\n",
        "print(sub)\n",
        "print(mul)\n",
        "print(mod)\n",
        "print(p)"
      ],
      "metadata": {
        "colab": {
          "base_uri": "https://localhost:8080/"
        },
        "id": "pskWR-vc41D9",
        "outputId": "90a185cf-94b6-46a5-ff6b-7fb73daf0d37"
      },
      "execution_count": 10,
      "outputs": [
        {
          "output_type": "stream",
          "name": "stdout",
          "text": [
            "13\n",
            "5\n",
            "36\n",
            "1\n",
            "6561\n"
          ]
        }
      ]
    },
    {
      "cell_type": "code",
      "source": [
        "a = True\n",
        "b = False\n",
        "print(a and b)\n",
        "print(a or b)\n",
        "print(not a)"
      ],
      "metadata": {
        "colab": {
          "base_uri": "https://localhost:8080/"
        },
        "id": "MRzOYHcU5HGp",
        "outputId": "76881f5a-2fab-4b97-e1ad-594ac6a3519d"
      },
      "execution_count": 11,
      "outputs": [
        {
          "output_type": "stream",
          "name": "stdout",
          "text": [
            "False\n",
            "True\n",
            "False\n"
          ]
        }
      ]
    },
    {
      "cell_type": "code",
      "source": [
        "a = 10\n",
        "b = 4\n",
        "print(a & b)\n",
        "print(a | b)\n",
        "print(~a)\n",
        "print(a ^ b)\n",
        "print(a >> 2)\n",
        "print(a << 2)"
      ],
      "metadata": {
        "colab": {
          "base_uri": "https://localhost:8080/"
        },
        "id": "On47xV8n-Svd",
        "outputId": "12cde894-e29f-4a57-e9bf-1113b78dcaa4"
      },
      "execution_count": 12,
      "outputs": [
        {
          "output_type": "stream",
          "name": "stdout",
          "text": [
            "0\n",
            "14\n",
            "-11\n",
            "14\n",
            "2\n",
            "40\n"
          ]
        }
      ]
    },
    {
      "cell_type": "code",
      "source": [
        "a = 10\n",
        "b = a\n",
        "print(b)\n",
        "b += a\n",
        "print(b)\n",
        "b -= a\n",
        "print(b)\n",
        "b *= a\n",
        "print(b)\n",
        "b <<= a\n",
        "print(b)"
      ],
      "metadata": {
        "colab": {
          "base_uri": "https://localhost:8080/"
        },
        "id": "KdO9tCKL-nox",
        "outputId": "58b26ec1-5ba7-461a-f222-6f8e561c5f8a"
      },
      "execution_count": 13,
      "outputs": [
        {
          "output_type": "stream",
          "name": "stdout",
          "text": [
            "10\n",
            "20\n",
            "10\n",
            "100\n",
            "102400\n"
          ]
        }
      ]
    },
    {
      "cell_type": "code",
      "source": [
        "i = 20\n",
        "if (i < 15):\n",
        "    print(\"i is smaller than 15\")\n",
        "else:\n",
        "    print(\"i is greater than 15\")"
      ],
      "metadata": {
        "colab": {
          "base_uri": "https://localhost:8080/"
        },
        "id": "e1GA6Qhf_26G",
        "outputId": "6c8be7b8-7ba0-4127-9464-e54afde185d6"
      },
      "execution_count": 14,
      "outputs": [
        {
          "output_type": "stream",
          "name": "stdout",
          "text": [
            "i is greater than 15\n"
          ]
        }
      ]
    },
    {
      "cell_type": "code",
      "source": [
        "i = 20\n",
        "if (i == 10):\n",
        "    print(\"i is 10\")\n",
        "elif (i == 15):\n",
        "    print(\"i is 15\")\n",
        "elif (i == 20):\n",
        "    print(\"i is 20\")\n",
        "else:\n",
        "    print(\"i is not present\")"
      ],
      "metadata": {
        "colab": {
          "base_uri": "https://localhost:8080/"
        },
        "id": "aQsWKtlE_7Bv",
        "outputId": "559a4438-448c-4e7d-da48-36f4ced56bd5"
      },
      "execution_count": 15,
      "outputs": [
        {
          "output_type": "stream",
          "name": "stdout",
          "text": [
            "i is 20\n"
          ]
        }
      ]
    },
    {
      "cell_type": "code",
      "source": [
        "for i in range(0, 10, 2):\n",
        "    print(i)"
      ],
      "metadata": {
        "colab": {
          "base_uri": "https://localhost:8080/"
        },
        "id": "geXWX-WVAixj",
        "outputId": "ccc5b11c-1809-4772-806b-354dd91c0f53"
      },
      "execution_count": 16,
      "outputs": [
        {
          "output_type": "stream",
          "name": "stdout",
          "text": [
            "0\n",
            "2\n",
            "4\n",
            "6\n",
            "8\n"
          ]
        }
      ]
    },
    {
      "cell_type": "code",
      "source": [
        "# Python program to illustrate while loop\n",
        "count = 0\n",
        "while (count < 3):\n",
        "    count = count + 1\n",
        "    print(\"Hello Geek\")"
      ],
      "metadata": {
        "colab": {
          "base_uri": "https://localhost:8080/"
        },
        "id": "JqQfKIdMAkAm",
        "outputId": "ab38d559-cad3-40c4-9b4b-443f08ef5f19"
      },
      "execution_count": 17,
      "outputs": [
        {
          "output_type": "stream",
          "name": "stdout",
          "text": [
            "Hello Geek\n",
            "Hello Geek\n",
            "Hello Geek\n"
          ]
        }
      ]
    },
    {
      "cell_type": "code",
      "source": [
        "def evenOdd(x):\n",
        "    if (x % 2 == 0):\n",
        "        print(\"even\")\n",
        "    else:\n",
        "        print(\"odd\")\n",
        "\n",
        "\n",
        "# Driver code to call the function\n",
        "evenOdd(2)\n",
        "evenOdd(3)"
      ],
      "metadata": {
        "colab": {
          "base_uri": "https://localhost:8080/"
        },
        "id": "krklG7azA5fe",
        "outputId": "f3578025-bf55-4b16-d8fe-09af42a5ff54"
      },
      "execution_count": 18,
      "outputs": [
        {
          "output_type": "stream",
          "name": "stdout",
          "text": [
            "even\n",
            "odd\n"
          ]
        }
      ]
    },
    {
      "cell_type": "markdown",
      "source": [
        "#Syntax\n"
      ],
      "metadata": {
        "id": "1mZhq4e8CNfa"
      }
    },
    {
      "cell_type": "code",
      "source": [
        "a = 10\n",
        "print(type(a))\n",
        "\n",
        "b = 'GeeksforGeeks'\n",
        "print(type(b))"
      ],
      "metadata": {
        "colab": {
          "base_uri": "https://localhost:8080/"
        },
        "id": "Vr7IxUnECcKF",
        "outputId": "8ee2bcc7-511c-4417-eb40-abd4e07cd524"
      },
      "execution_count": 19,
      "outputs": [
        {
          "output_type": "stream",
          "name": "stdout",
          "text": [
            "<class 'int'>\n",
            "<class 'str'>\n"
          ]
        }
      ]
    },
    {
      "cell_type": "code",
      "source": [
        "# Line continuation within square brackets '[]'\n",
        "numbers = [\n",
        "    1, 2, 3,\n",
        "    4, 5, 6,\n",
        "    7, 8, 9\n",
        "]\n",
        "\n",
        "# Line continuation within parentheses '()'\n",
        "result = max(\n",
        "    10, 20,\n",
        "    30, 40\n",
        ")\n",
        "\n",
        "# Line continuation within curly braces '{}'\n",
        "dictionary = {\n",
        "    \"name\": \"Alice\",\n",
        "    \"age\": 25,\n",
        "    \"address\": \"123 Wonderland\"\n",
        "}\n",
        "\n",
        "print(numbers)\n",
        "print(result)\n",
        "print(dictionary)"
      ],
      "metadata": {
        "colab": {
          "base_uri": "https://localhost:8080/"
        },
        "id": "GXvsgSpyEsul",
        "outputId": "00ca760f-e740-42bd-9a87-3555dfba7682"
      },
      "execution_count": 21,
      "outputs": [
        {
          "output_type": "stream",
          "name": "stdout",
          "text": [
            "[1, 2, 3, 4, 5, 6, 7, 8, 9]\n",
            "40\n",
            "{'name': 'Alice', 'age': 25, 'address': '123 Wonderland'}\n"
          ]
        }
      ]
    },
    {
      "cell_type": "code",
      "source": [
        "def print_table(n):\n",
        "  for i in range(1,11):\n",
        "    print(i*n)\n",
        "\n",
        "print_table(4)"
      ],
      "metadata": {
        "colab": {
          "base_uri": "https://localhost:8080/"
        },
        "id": "eIo7O8E1DFz9",
        "outputId": "349913ee-07a1-464f-d599-e106d992a0b3"
      },
      "execution_count": 20,
      "outputs": [
        {
          "output_type": "stream",
          "name": "stdout",
          "text": [
            "4\n",
            "8\n",
            "12\n",
            "16\n",
            "20\n",
            "24\n",
            "28\n",
            "32\n",
            "36\n",
            "40\n"
          ]
        }
      ]
    },
    {
      "cell_type": "code",
      "source": [],
      "metadata": {
        "id": "2GtD4OA6FHwh"
      },
      "execution_count": null,
      "outputs": []
    }
  ]
}